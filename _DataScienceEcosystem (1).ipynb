{
 "cells": [
  {
   "cell_type": "markdown",
   "id": "c2281650",
   "metadata": {},
   "source": [
    "# Data Science Tools and Ecosystem"
   ]
  },
  {
   "cell_type": "markdown",
   "id": "f425af0f",
   "metadata": {},
   "source": [
    "In this notebook, Data Science Tools and Ecosystem are summarized"
   ]
  },
  {
   "cell_type": "markdown",
   "id": "e31e98f2",
   "metadata": {},
   "source": [
    "# Author\n",
    "name: Dayana B"
   ]
  },
  {
   "cell_type": "code",
   "execution_count": 11,
   "id": "26bad47b",
   "metadata": {},
   "outputs": [
    {
     "name": "stdout",
     "output_type": "stream",
     "text": [
      "['python', 'Sql', 'Rstudio']\n",
      "Some of the popular languages that Data Scientists use are: ['python', 'Sql', 'Rstudio']\n"
     ]
    }
   ],
   "source": [
    "list = [\"python\",\"Sql\",\"Rstudio\"]\n",
    "print(list)\n",
    "print(\"Some of the popular languages that Data Scientists use are: {}\".format(list))"
   ]
  },
  {
   "cell_type": "code",
   "execution_count": 14,
   "id": "af1e6b5e",
   "metadata": {},
   "outputs": [
    {
     "name": "stdout",
     "output_type": "stream",
     "text": [
      "Some of the commonly used libraries used by Data Scientists include:['sckit-learn', 'Tensorflow', 'Keras', 'pandas', 'numpy']\n"
     ]
    }
   ],
   "source": [
    "list = [\"sckit-learn\",\"Tensorflow\",\"Keras\",\"pandas\",\"numpy\"]\n",
    "print(\"Some of the commonly used libraries used by Data Scientists include:{}\".format(list))"
   ]
  },
  {
   "cell_type": "code",
   "execution_count": 1,
   "id": "43fce249",
   "metadata": {},
   "outputs": [
    {
     "name": "stderr",
     "output_type": "stream",
     "text": [
      "C:\\Users\\dayan\\anaconda3\\lib\\site-packages\\pandas\\core\\computation\\expressions.py:21: UserWarning: Pandas requires version '2.8.4' or newer of 'numexpr' (version '2.8.3' currently installed).\n",
      "  from pandas.core.computation.check import NUMEXPR_INSTALLED\n",
      "C:\\Users\\dayan\\anaconda3\\lib\\site-packages\\pandas\\core\\arrays\\masked.py:60: UserWarning: Pandas requires version '1.3.6' or newer of 'bottleneck' (version '1.3.5' currently installed).\n",
      "  from pandas.core import (\n"
     ]
    },
    {
     "name": "stdout",
     "output_type": "stream",
     "text": [
      "   Data Science Tools\n",
      "0              Github\n",
      "1       Watson studio\n",
      "2  Anaconda navigator\n",
      "3             jupyter\n",
      "4               mysql\n",
      "5             MongoDB\n"
     ]
    }
   ],
   "source": [
    "import pandas as pd\n",
    "data = pd.DataFrame({\"Data Science Tools\":[\"Github\", \"Watson studio\", \"Anaconda navigator\",\"jupyter\", \"mysql\",\"MongoDB\"]})\n",
    "print(data)"
   ]
  },
  {
   "cell_type": "markdown",
   "id": "25912a55",
   "metadata": {},
   "source": [
    "Belowa are few  examples of evaluating arithmetic expressions in python:"
   ]
  },
  {
   "cell_type": "code",
   "execution_count": 2,
   "id": "72570d93",
   "metadata": {},
   "outputs": [
    {
     "name": "stdout",
     "output_type": "stream",
     "text": [
      "8\n"
     ]
    }
   ],
   "source": [
    "x = 5+3\n",
    "print(x)"
   ]
  },
  {
   "cell_type": "code",
   "execution_count": 3,
   "id": "4455f97b",
   "metadata": {},
   "outputs": [
    {
     "name": "stdout",
     "output_type": "stream",
     "text": [
      "17\n"
     ]
    }
   ],
   "source": [
    "## This a simple arithmetic expression to multipy then add integers\n",
    "result = (3*4)+5\n",
    "print(result)"
   ]
  },
  {
   "cell_type": "code",
   "execution_count": 4,
   "id": "dfce43fa",
   "metadata": {},
   "outputs": [
    {
     "name": "stdout",
     "output_type": "stream",
     "text": [
      "3.3\n"
     ]
    }
   ],
   "source": [
    "## this will convert 200 minutes to hours by diving by 60\n",
    "minutes = 200\n",
    "horas = (minutes / 60)\n",
    "print(round(horas, 1))"
   ]
  },
  {
   "cell_type": "code",
   "execution_count": null,
   "id": "fbc4522c",
   "metadata": {},
   "outputs": [],
   "source": []
  }
 ],
 "metadata": {
  "kernelspec": {
   "display_name": "Python 3 (ipykernel)",
   "language": "python",
   "name": "python3"
  },
  "language_info": {
   "codemirror_mode": {
    "name": "ipython",
    "version": 3
   },
   "file_extension": ".py",
   "mimetype": "text/x-python",
   "name": "python",
   "nbconvert_exporter": "python",
   "pygments_lexer": "ipython3",
   "version": "3.9.13"
  }
 },
 "nbformat": 4,
 "nbformat_minor": 5
}
