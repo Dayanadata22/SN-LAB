{
 "cells": [
  {
   "cell_type": "markdown",
   "id": "c2281650",
   "metadata": {},
   "source": [
    "# Data Science Tools and Ecosystem"
   ]
  },
  {
   "cell_type": "markdown",
   "id": "f425af0f",
   "metadata": {},
   "source": [
    "In this notebook, Data Science Tools and Ecosystem are summarized"
   ]
  },
  {
   "cell_type": "code",
   "execution_count": 11,
   "id": "26bad47b",
   "metadata": {},
   "outputs": [
    {
     "name": "stdout",
     "output_type": "stream",
     "text": [
      "['python', 'Sql', 'Rstudio']\n",
      "Some of the popular languages that Data Scientists use are: ['python', 'Sql', 'Rstudio']\n"
     ]
    }
   ],
   "source": [
    "list = [\"python\",\"Sql\",\"Rstudio\"]\n",
    "print(list)\n",
    "print(\"Some of the popular languages that Data Scientists use are: {}\".format(list))"
   ]
  },
  {
   "cell_type": "code",
   "execution_count": 14,
   "id": "af1e6b5e",
   "metadata": {},
   "outputs": [
    {
     "name": "stdout",
     "output_type": "stream",
     "text": [
      "Some of the commonly used libraries used by Data Scientists include:['sckit-learn', 'Tensorflow', 'Keras', 'pandas', 'numpy']\n"
     ]
    }
   ],
   "source": [
    "list = [\"sckit-learn\",\"Tensorflow\",\"Keras\",\"pandas\",\"numpy\"]\n",
    "print(\"Some of the commonly used libraries used by Data Scientists include:{}\".format(list))"
   ]
  },
  {
   "cell_type": "code",
   "execution_count": 26,
   "id": "43fce249",
   "metadata": {},
   "outputs": [
    {
     "ename": "ModuleNotFoundError",
     "evalue": "No module named 'pandas'",
     "output_type": "error",
     "traceback": [
      "\u001b[1;31m---------------------------------------------------------------------------\u001b[0m",
      "\u001b[1;31mModuleNotFoundError\u001b[0m                       Traceback (most recent call last)",
      "\u001b[1;32m~\\AppData\\Local\\Temp\\ipykernel_17264\\221033473.py\u001b[0m in \u001b[0;36m<module>\u001b[1;34m\u001b[0m\n\u001b[1;32m----> 1\u001b[1;33m \u001b[1;32mimport\u001b[0m \u001b[0mpandas\u001b[0m \u001b[1;32mas\u001b[0m \u001b[0mpd\u001b[0m\u001b[1;33m\u001b[0m\u001b[1;33m\u001b[0m\u001b[0m\n\u001b[0m\u001b[0;32m      2\u001b[0m \u001b[0mdata\u001b[0m \u001b[1;33m=\u001b[0m \u001b[0mpd\u001b[0m\u001b[1;33m.\u001b[0m\u001b[0mDataFrame\u001b[0m\u001b[1;33m(\u001b[0m\u001b[1;33m{\u001b[0m\u001b[1;34m\"Data Science Tools\"\u001b[0m\u001b[1;33m:\u001b[0m\u001b[1;33m[\u001b[0m\u001b[1;34m\"Github\"\u001b[0m\u001b[1;33m,\u001b[0m \u001b[1;34m\"Watson studio\"\u001b[0m\u001b[1;33m,\u001b[0m \u001b[1;34m\"Anaconda navigator\"\u001b[0m\u001b[1;33m,\u001b[0m\u001b[1;34m\"jupyter\"\u001b[0m\u001b[1;33m,\u001b[0m \u001b[1;34m\"mysql\"\u001b[0m\u001b[1;33m,\u001b[0m\u001b[1;34m\"MongoDB\"\u001b[0m\u001b[1;33m]\u001b[0m\u001b[1;33m}\u001b[0m\u001b[1;33m)\u001b[0m\u001b[1;33m\u001b[0m\u001b[1;33m\u001b[0m\u001b[0m\n\u001b[0;32m      3\u001b[0m \u001b[0mprint\u001b[0m\u001b[1;33m(\u001b[0m\u001b[0mdata\u001b[0m\u001b[1;33m)\u001b[0m\u001b[1;33m\u001b[0m\u001b[1;33m\u001b[0m\u001b[0m\n",
      "\u001b[1;31mModuleNotFoundError\u001b[0m: No module named 'pandas'"
     ]
    }
   ],
   "source": [
    "import pandas as pd\n",
    "data = pd.DataFrame({\"Data Science Tools\":[\"Github\", \"Watson studio\", \"Anaconda navigator\",\"jupyter\", \"mysql\",\"MongoDB\"]})\n",
    "print(data)"
   ]
  },
  {
   "cell_type": "code",
   "execution_count": null,
   "id": "de69c1df",
   "metadata": {},
   "outputs": [],
   "source": []
  }
 ],
 "metadata": {
  "kernelspec": {
   "display_name": "Python 3 (ipykernel)",
   "language": "python",
   "name": "python3"
  },
  "language_info": {
   "codemirror_mode": {
    "name": "ipython",
    "version": 3
   },
   "file_extension": ".py",
   "mimetype": "text/x-python",
   "name": "python",
   "nbconvert_exporter": "python",
   "pygments_lexer": "ipython3",
   "version": "3.9.13"
  }
 },
 "nbformat": 4,
 "nbformat_minor": 5
}
